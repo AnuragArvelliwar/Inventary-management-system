{
 "cells": [
  {
   "cell_type": "code",
   "execution_count": 36,
   "id": "94e8912e",
   "metadata": {},
   "outputs": [],
   "source": [
    "record = { 19011001 : {'name': 'parle' , 'billno': 101, 'Qty': 22, 'price': 25, \"wt\" : \"75g\"},\n",
    "           19011002 : {'name': 'garle' , 'billno': 102, 'Qty': 22, 'price': 54, \"wt\" : \"75g\"},\n",
    "           19011003 : {'name': 'krack' , 'billno': 103, 'Qty': 21, 'price': 25, \"wt\" : \"75g\"},\n",
    "           19011004 : {'name': 'sunfi' , 'billno': 104, 'Qty': 24, 'price': 45, \"wt\" : \"75g\"},\n",
    "           19011005 : {'name': 'monac' , 'billno': 105, 'Qty': 23, 'price': 82, \"wt\" : \"75g\"},\n",
    "           19011006 : {'name': 'silk'  , 'billno': 106, 'Qty': 53, 'price': 35, \"wt\" : \"75g\"},\n",
    "           19011007 : {'name': 'milkb' , 'billno': 107, 'Qty': 35, 'price': 22, \"wt\" : \"75g\"},\n",
    "           19011008 : {'name': 'marle' , 'billno': 108, 'Qty': 66, 'price': 45, \"wt\" : \"75g\"},\n",
    "           19011009 : {'name': 'karle' , 'billno': 109, 'Qty': 36, 'price': 23, \"wt\" : \"75g\"},\n",
    "           19011010 : {'name': 'palle' , 'billno': 110, 'Qty': 25, 'price': 77, \"wt\" : \"75g\"},\n",
    "           19011011 : {'name': 'sarlk' , 'billno': 111, 'Qty': 68, 'price': 55, \"wt\" : \"75g\"},\n",
    "           19011012 : {'name': 'marky' , 'billno': 112, 'Qty': 48, 'price': 24, \"wt\" : \"75g\"},\n",
    "           19011013 : {'name': 'bourn' , 'billno': 113, 'Qty': 37, 'price': 26, \"wt\" : \"75g\"},\n",
    "           19011014 : {'name': 'bones' , 'billno': 114, 'Qty': 26, 'price': 25, \"wt\" : \"75g\"},\n",
    "           19011015 : {'name': 'jammi' , 'billno': 115, 'Qty': 55, 'price': 28, \"wt\" : \"75g\"},\n",
    "           19011016 : {'name': 'jammy' , 'billno': 116, 'Qty': 75, 'price': 25, \"wt\" : \"75g\"},\n",
    "           19011017 : {'name': 'cream' , 'billno': 117, 'Qty': 32, 'price': 25, \"wt\" : \"75g\"},\n",
    "           19011018 : {'name': 'happy' , 'billno': 118, 'Qty': 68, 'price': 88, \"wt\" : \"75g\"},\n",
    "           19011019 : {'name': 'twent' , 'billno': 119, 'Qty': 26, 'price': 23, \"wt\" : \"75g\"},\n",
    "           19011020 : {'name': 'horse' , 'billno': 120, 'Qty': 15, 'price': 29, \"wt\" : \"75g\"},\n",
    "           19011021 : {'name': 'apple' , 'billno': 121, 'Qty': 16, 'price': 23, \"wt\" : \"75g\"},\n",
    "           19011022 : {'name': 'mango' , 'billno': 122, 'Qty': 16, 'price': 38, \"wt\" : \"75g\"},\n",
    "           19011023 : {'name': 'banaa' , 'billno': 123, 'Qty': 63, 'price': 28, \"wt\" : \"75g\"},\n",
    "           19011024 : {'name': 'cooki' , 'billno': 124, 'Qty': 22, 'price': 26, \"wt\" : \"75g\"},\n",
    "           19011025 : {'name': 'shake' , 'billno': 125, 'Qty': 57, 'price': 26, \"wt\" : \"75g\"},\n",
    "           19011026 : {'name': 'beeri' , 'billno': 126, 'Qty': 24, 'price': 26, \"wt\" : \"75g\"},\n",
    "           19011027 : {'name': 'flavo' , 'billno': 127, 'Qty': 15, 'price': 24, \"wt\" : \"75g\"},\n",
    "           19011028 : {'name': 'panma' , 'billno': 128, 'Qty': 28, 'price': 24, \"wt\" : \"75g\"},\n",
    "           19011029 : {'name': 'torpi' , 'billno': 129, 'Qty': 42, 'price': 29, \"wt\" : \"75g\"},\n",
    "           19011030 : {'name': 'gasal' , 'billno': 130, 'Qty': 82, 'price': 25, \"wt\" : \"75g\"}}"
   ]
  },
  {
   "cell_type": "code",
   "execution_count": 37,
   "id": "caa81a70",
   "metadata": {},
   "outputs": [],
   "source": [
    "import time\n",
    "import json"
   ]
  },
  {
   "cell_type": "code",
   "execution_count": 38,
   "id": "0671590c",
   "metadata": {},
   "outputs": [],
   "source": [
    "js = json.dumps(record)"
   ]
  },
  {
   "cell_type": "code",
   "execution_count": 39,
   "id": "d656b268",
   "metadata": {},
   "outputs": [
    {
     "data": {
      "text/plain": [
       "'{\"19011001\": {\"name\": \"parle\", \"billno\": 101, \"Qty\": 22, \"price\": 25, \"wt\": \"75g\"}, \"19011002\": {\"name\": \"garle\", \"billno\": 102, \"Qty\": 22, \"price\": 54, \"wt\": \"75g\"}, \"19011003\": {\"name\": \"krack\", \"billno\": 103, \"Qty\": 21, \"price\": 25, \"wt\": \"75g\"}, \"19011004\": {\"name\": \"sunfi\", \"billno\": 104, \"Qty\": 24, \"price\": 45, \"wt\": \"75g\"}, \"19011005\": {\"name\": \"monac\", \"billno\": 105, \"Qty\": 23, \"price\": 82, \"wt\": \"75g\"}, \"19011006\": {\"name\": \"silk\", \"billno\": 106, \"Qty\": 53, \"price\": 35, \"wt\": \"75g\"}, \"19011007\": {\"name\": \"milkb\", \"billno\": 107, \"Qty\": 35, \"price\": 22, \"wt\": \"75g\"}, \"19011008\": {\"name\": \"marle\", \"billno\": 108, \"Qty\": 66, \"price\": 45, \"wt\": \"75g\"}, \"19011009\": {\"name\": \"karle\", \"billno\": 109, \"Qty\": 36, \"price\": 23, \"wt\": \"75g\"}, \"19011010\": {\"name\": \"palle\", \"billno\": 110, \"Qty\": 25, \"price\": 77, \"wt\": \"75g\"}, \"19011011\": {\"name\": \"sarlk\", \"billno\": 111, \"Qty\": 68, \"price\": 55, \"wt\": \"75g\"}, \"19011012\": {\"name\": \"marky\", \"billno\": 112, \"Qty\": 48, \"price\": 24, \"wt\": \"75g\"}, \"19011013\": {\"name\": \"bourn\", \"billno\": 113, \"Qty\": 37, \"price\": 26, \"wt\": \"75g\"}, \"19011014\": {\"name\": \"bones\", \"billno\": 114, \"Qty\": 26, \"price\": 25, \"wt\": \"75g\"}, \"19011015\": {\"name\": \"jammi\", \"billno\": 115, \"Qty\": 55, \"price\": 28, \"wt\": \"75g\"}, \"19011016\": {\"name\": \"jammy\", \"billno\": 116, \"Qty\": 75, \"price\": 25, \"wt\": \"75g\"}, \"19011017\": {\"name\": \"cream\", \"billno\": 117, \"Qty\": 32, \"price\": 25, \"wt\": \"75g\"}, \"19011018\": {\"name\": \"happy\", \"billno\": 118, \"Qty\": 68, \"price\": 88, \"wt\": \"75g\"}, \"19011019\": {\"name\": \"twent\", \"billno\": 119, \"Qty\": 26, \"price\": 23, \"wt\": \"75g\"}, \"19011020\": {\"name\": \"horse\", \"billno\": 120, \"Qty\": 15, \"price\": 29, \"wt\": \"75g\"}, \"19011021\": {\"name\": \"apple\", \"billno\": 121, \"Qty\": 16, \"price\": 23, \"wt\": \"75g\"}, \"19011022\": {\"name\": \"mango\", \"billno\": 122, \"Qty\": 16, \"price\": 38, \"wt\": \"75g\"}, \"19011023\": {\"name\": \"banaa\", \"billno\": 123, \"Qty\": 63, \"price\": 28, \"wt\": \"75g\"}, \"19011024\": {\"name\": \"cooki\", \"billno\": 124, \"Qty\": 22, \"price\": 26, \"wt\": \"75g\"}, \"19011025\": {\"name\": \"shake\", \"billno\": 125, \"Qty\": 57, \"price\": 26, \"wt\": \"75g\"}, \"19011026\": {\"name\": \"beeri\", \"billno\": 126, \"Qty\": 24, \"price\": 26, \"wt\": \"75g\"}, \"19011027\": {\"name\": \"flavo\", \"billno\": 127, \"Qty\": 15, \"price\": 24, \"wt\": \"75g\"}, \"19011028\": {\"name\": \"panma\", \"billno\": 128, \"Qty\": 28, \"price\": 24, \"wt\": \"75g\"}, \"19011029\": {\"name\": \"torpi\", \"billno\": 129, \"Qty\": 42, \"price\": 29, \"wt\": \"75g\"}, \"19011030\": {\"name\": \"gasal\", \"billno\": 130, \"Qty\": 82, \"price\": 25, \"wt\": \"75g\"}}'"
      ]
     },
     "execution_count": 39,
     "metadata": {},
     "output_type": "execute_result"
    }
   ],
   "source": [
    "js"
   ]
  },
  {
   "cell_type": "code",
   "execution_count": 40,
   "id": "b4269d32",
   "metadata": {},
   "outputs": [
    {
     "data": {
      "text/plain": [
       "{19011001: {'name': 'parle',\n",
       "  'billno': 101,\n",
       "  'Qty': 22,\n",
       "  'price': 25,\n",
       "  'wt': '75g'},\n",
       " 19011002: {'name': 'garle',\n",
       "  'billno': 102,\n",
       "  'Qty': 22,\n",
       "  'price': 54,\n",
       "  'wt': '75g'},\n",
       " 19011003: {'name': 'krack',\n",
       "  'billno': 103,\n",
       "  'Qty': 21,\n",
       "  'price': 25,\n",
       "  'wt': '75g'},\n",
       " 19011004: {'name': 'sunfi',\n",
       "  'billno': 104,\n",
       "  'Qty': 24,\n",
       "  'price': 45,\n",
       "  'wt': '75g'},\n",
       " 19011005: {'name': 'monac',\n",
       "  'billno': 105,\n",
       "  'Qty': 23,\n",
       "  'price': 82,\n",
       "  'wt': '75g'},\n",
       " 19011006: {'name': 'silk',\n",
       "  'billno': 106,\n",
       "  'Qty': 53,\n",
       "  'price': 35,\n",
       "  'wt': '75g'},\n",
       " 19011007: {'name': 'milkb',\n",
       "  'billno': 107,\n",
       "  'Qty': 35,\n",
       "  'price': 22,\n",
       "  'wt': '75g'},\n",
       " 19011008: {'name': 'marle',\n",
       "  'billno': 108,\n",
       "  'Qty': 66,\n",
       "  'price': 45,\n",
       "  'wt': '75g'},\n",
       " 19011009: {'name': 'karle',\n",
       "  'billno': 109,\n",
       "  'Qty': 36,\n",
       "  'price': 23,\n",
       "  'wt': '75g'},\n",
       " 19011010: {'name': 'palle',\n",
       "  'billno': 110,\n",
       "  'Qty': 25,\n",
       "  'price': 77,\n",
       "  'wt': '75g'},\n",
       " 19011011: {'name': 'sarlk',\n",
       "  'billno': 111,\n",
       "  'Qty': 68,\n",
       "  'price': 55,\n",
       "  'wt': '75g'},\n",
       " 19011012: {'name': 'marky',\n",
       "  'billno': 112,\n",
       "  'Qty': 48,\n",
       "  'price': 24,\n",
       "  'wt': '75g'},\n",
       " 19011013: {'name': 'bourn',\n",
       "  'billno': 113,\n",
       "  'Qty': 37,\n",
       "  'price': 26,\n",
       "  'wt': '75g'},\n",
       " 19011014: {'name': 'bones',\n",
       "  'billno': 114,\n",
       "  'Qty': 26,\n",
       "  'price': 25,\n",
       "  'wt': '75g'},\n",
       " 19011015: {'name': 'jammi',\n",
       "  'billno': 115,\n",
       "  'Qty': 55,\n",
       "  'price': 28,\n",
       "  'wt': '75g'},\n",
       " 19011016: {'name': 'jammy',\n",
       "  'billno': 116,\n",
       "  'Qty': 75,\n",
       "  'price': 25,\n",
       "  'wt': '75g'},\n",
       " 19011017: {'name': 'cream',\n",
       "  'billno': 117,\n",
       "  'Qty': 32,\n",
       "  'price': 25,\n",
       "  'wt': '75g'},\n",
       " 19011018: {'name': 'happy',\n",
       "  'billno': 118,\n",
       "  'Qty': 68,\n",
       "  'price': 88,\n",
       "  'wt': '75g'},\n",
       " 19011019: {'name': 'twent',\n",
       "  'billno': 119,\n",
       "  'Qty': 26,\n",
       "  'price': 23,\n",
       "  'wt': '75g'},\n",
       " 19011020: {'name': 'horse',\n",
       "  'billno': 120,\n",
       "  'Qty': 15,\n",
       "  'price': 29,\n",
       "  'wt': '75g'},\n",
       " 19011021: {'name': 'apple',\n",
       "  'billno': 121,\n",
       "  'Qty': 16,\n",
       "  'price': 23,\n",
       "  'wt': '75g'},\n",
       " 19011022: {'name': 'mango',\n",
       "  'billno': 122,\n",
       "  'Qty': 16,\n",
       "  'price': 38,\n",
       "  'wt': '75g'},\n",
       " 19011023: {'name': 'banaa',\n",
       "  'billno': 123,\n",
       "  'Qty': 63,\n",
       "  'price': 28,\n",
       "  'wt': '75g'},\n",
       " 19011024: {'name': 'cooki',\n",
       "  'billno': 124,\n",
       "  'Qty': 22,\n",
       "  'price': 26,\n",
       "  'wt': '75g'},\n",
       " 19011025: {'name': 'shake',\n",
       "  'billno': 125,\n",
       "  'Qty': 57,\n",
       "  'price': 26,\n",
       "  'wt': '75g'},\n",
       " 19011026: {'name': 'beeri',\n",
       "  'billno': 126,\n",
       "  'Qty': 24,\n",
       "  'price': 26,\n",
       "  'wt': '75g'},\n",
       " 19011027: {'name': 'flavo',\n",
       "  'billno': 127,\n",
       "  'Qty': 15,\n",
       "  'price': 24,\n",
       "  'wt': '75g'},\n",
       " 19011028: {'name': 'panma',\n",
       "  'billno': 128,\n",
       "  'Qty': 28,\n",
       "  'price': 24,\n",
       "  'wt': '75g'},\n",
       " 19011029: {'name': 'torpi',\n",
       "  'billno': 129,\n",
       "  'Qty': 42,\n",
       "  'price': 29,\n",
       "  'wt': '75g'},\n",
       " 19011030: {'name': 'gasal',\n",
       "  'billno': 130,\n",
       "  'Qty': 82,\n",
       "  'price': 25,\n",
       "  'wt': '75g'}}"
      ]
     },
     "execution_count": 40,
     "metadata": {},
     "output_type": "execute_result"
    }
   ],
   "source": [
    "record"
   ]
  },
  {
   "cell_type": "code",
   "execution_count": 41,
   "id": "6ebde36e",
   "metadata": {},
   "outputs": [],
   "source": [
    "fd = open(\"record.json\",\"w\")\n",
    "\n",
    "fd.write(js)\n",
    "\n",
    "fd.close()"
   ]
  },
  {
   "cell_type": "code",
   "execution_count": 42,
   "id": "c5bab829",
   "metadata": {},
   "outputs": [],
   "source": [
    "fd = open(\"record.json\",\"r\")\n",
    "\n",
    "txt = fd.read()\n",
    "\n",
    "fd.close()\n",
    "\n",
    "record = json.loads(js)"
   ]
  },
  {
   "cell_type": "code",
   "execution_count": 43,
   "id": "07084760",
   "metadata": {},
   "outputs": [],
   "source": [
    "# Adding products"
   ]
  },
  {
   "cell_type": "code",
   "execution_count": 12,
   "id": "052a036c",
   "metadata": {},
   "outputs": [
    {
     "name": "stdout",
     "output_type": "stream",
     "text": [
      "enter product id:19011004\n",
      "enter name:sunfi\n",
      "enter billno:104\n",
      "enter quantity id:25\n",
      "enter price:45\n",
      "enter net wt:65\n"
     ]
    }
   ],
   "source": [
    "prod_id = str(input(\"enter product id:\"))\n",
    "name = str(input(\"enter name:\"))\n",
    "bilno = str(input(\"enter billno:\"))\n",
    "qn = int(input(\"enter quantity id:\"))\n",
    "pr = int(input(\"enter price:\"))\n",
    "wt = str(input(\"enter net wt:\"))\n",
    "\n",
    "record[prod_id] = {\"name\" : name, \"billno\" : bilno, \"Qty\" : qn, \"price\" : pr, \"wt\" : wt}\n",
    "\n",
    "js = json.dumps(record)\n",
    "\n",
    "fd = open(\"records.json\",\"w\")\n",
    "fd.write(js)\n",
    "fd.close()"
   ]
  },
  {
   "cell_type": "code",
   "execution_count": 44,
   "id": "42ba936c",
   "metadata": {},
   "outputs": [],
   "source": [
    "#purchasing the products"
   ]
  },
  {
   "cell_type": "code",
   "execution_count": 14,
   "id": "6041836a",
   "metadata": {},
   "outputs": [
    {
     "name": "stdout",
     "output_type": "stream",
     "text": [
      "enter the product_id: 19011004\n",
      "enter the quantity: 2\n"
     ]
    }
   ],
   "source": [
    "ui_prod = str(input(\"enter the product_id: \"))\n",
    "ui_quant = int(input(\"enter the quantity: \"))"
   ]
  },
  {
   "cell_type": "code",
   "execution_count": 16,
   "id": "bbdd8a45",
   "metadata": {},
   "outputs": [
    {
     "data": {
      "text/plain": [
       "90"
      ]
     },
     "execution_count": 16,
     "metadata": {},
     "output_type": "execute_result"
    }
   ],
   "source": [
    "record[ui_prod][\"price\"] * ui_quant"
   ]
  },
  {
   "cell_type": "code",
   "execution_count": 51,
   "id": "1e2ff04a",
   "metadata": {},
   "outputs": [
    {
     "name": "stdout",
     "output_type": "stream",
     "text": [
      "enter the product_id: 19011001\n",
      "enter the quantity2\n",
      "product:   parle\n",
      "price:  25\n",
      "billing Amount:  50\n",
      "Date:  Sun Sep  5 22:30:50 2021\n",
      "****Thank you for purchasing*****!\n"
     ]
    }
   ],
   "source": [
    "ui_prod = str(input(\"enter the product_id: \"))\n",
    "ui_quant = int(input(\"enter the quantity\"))\n",
    "\n",
    "\n",
    "print(\"product:  \", record[ui_prod][\"name\"])\n",
    "print('price: ', record[ui_prod][\"price\"])\n",
    "print('billing Amount: ', record[ui_prod][\"price\"] * ui_quant)\n",
    "\n",
    "record[ui_prod][\"Qty\"] = record[ui_prod][\"Qty\"] - ui_quant\n",
    "print(\"Date: \", time.ctime())\n",
    "print(\"****Thank you for purchasing*****!\")"
   ]
  },
  {
   "cell_type": "code",
   "execution_count": 48,
   "id": "9ac04676",
   "metadata": {},
   "outputs": [],
   "source": [
    "#To update inventory purchase"
   ]
  },
  {
   "cell_type": "code",
   "execution_count": 58,
   "id": "3c9c9680",
   "metadata": {},
   "outputs": [],
   "source": [
    "js = json.dumps(record)\n",
    "\n",
    "fd = open(\"record.json\",\"w\")\n",
    "fd.write(js)\n",
    "fd.close()"
   ]
  },
  {
   "cell_type": "code",
   "execution_count": 50,
   "id": "c38e9005",
   "metadata": {},
   "outputs": [],
   "source": [
    "#sales json"
   ]
  },
  {
   "cell_type": "code",
   "execution_count": 52,
   "id": "324fcc6f",
   "metadata": {},
   "outputs": [
    {
     "data": {
      "text/plain": [
       "{'prod': '19011001', 'qn': 2, 'amount': 50}"
      ]
     },
     "execution_count": 52,
     "metadata": {},
     "output_type": "execute_result"
    }
   ],
   "source": [
    "{\"prod\" : ui_prod, \"qn\" : ui_quant, \"amount\" : record[ui_prod][\"price\"] * ui_quant}"
   ]
  },
  {
   "cell_type": "code",
   "execution_count": 53,
   "id": "7d59b794",
   "metadata": {},
   "outputs": [],
   "source": [
    "sales = {1 : {\"prod\" : ui_prod, \"qn\" : ui_quant, \"amount\" : record[ui_prod][\"price\"] * ui_quant},\n",
    "         2 : {\"prod\" : ui_prod, \"qn\" : ui_quant, \"amount\" : record[ui_prod][\"price\"] * ui_quant},\n",
    "         3 : {\"prod\" : ui_prod, \"qn\" : ui_quant, \"amount\" : record[ui_prod][\"price\"] * ui_quant}}"
   ]
  },
  {
   "cell_type": "code",
   "execution_count": 54,
   "id": "1b0765f2",
   "metadata": {},
   "outputs": [
    {
     "data": {
      "text/plain": [
       "{4: {'prod': '19011001', 'qn': 2, 'amount': 50}}"
      ]
     },
     "execution_count": 54,
     "metadata": {},
     "output_type": "execute_result"
    }
   ],
   "source": [
    "{(len(sales) + 1) : {'prod' : ui_prod, 'qn' : ui_quant, \"amount\" : record[ui_prod]['price'] * ui_quant}}"
   ]
  },
  {
   "cell_type": "code",
   "execution_count": 55,
   "id": "d8c6a8df",
   "metadata": {},
   "outputs": [],
   "source": [
    "sale = json.dumps(sales)"
   ]
  },
  {
   "cell_type": "code",
   "execution_count": 59,
   "id": "4d7c4d46",
   "metadata": {},
   "outputs": [
    {
     "data": {
      "text/plain": [
       "{'19011001': {'name': 'parle',\n",
       "  'billno': 101,\n",
       "  'Qty': 16,\n",
       "  'price': 25,\n",
       "  'wt': '75g'},\n",
       " '19011002': {'name': 'garle',\n",
       "  'billno': 102,\n",
       "  'Qty': 22,\n",
       "  'price': 54,\n",
       "  'wt': '75g'},\n",
       " '19011003': {'name': 'krack',\n",
       "  'billno': 103,\n",
       "  'Qty': 21,\n",
       "  'price': 25,\n",
       "  'wt': '75g'},\n",
       " '19011004': {'name': 'sunfi',\n",
       "  'billno': 104,\n",
       "  'Qty': 24,\n",
       "  'price': 45,\n",
       "  'wt': '75g'},\n",
       " '19011005': {'name': 'monac',\n",
       "  'billno': 105,\n",
       "  'Qty': 23,\n",
       "  'price': 82,\n",
       "  'wt': '75g'},\n",
       " '19011006': {'name': 'silk',\n",
       "  'billno': 106,\n",
       "  'Qty': 53,\n",
       "  'price': 35,\n",
       "  'wt': '75g'},\n",
       " '19011007': {'name': 'milkb',\n",
       "  'billno': 107,\n",
       "  'Qty': 35,\n",
       "  'price': 22,\n",
       "  'wt': '75g'},\n",
       " '19011008': {'name': 'marle',\n",
       "  'billno': 108,\n",
       "  'Qty': 66,\n",
       "  'price': 45,\n",
       "  'wt': '75g'},\n",
       " '19011009': {'name': 'karle',\n",
       "  'billno': 109,\n",
       "  'Qty': 36,\n",
       "  'price': 23,\n",
       "  'wt': '75g'},\n",
       " '19011010': {'name': 'palle',\n",
       "  'billno': 110,\n",
       "  'Qty': 25,\n",
       "  'price': 77,\n",
       "  'wt': '75g'},\n",
       " '19011011': {'name': 'sarlk',\n",
       "  'billno': 111,\n",
       "  'Qty': 68,\n",
       "  'price': 55,\n",
       "  'wt': '75g'},\n",
       " '19011012': {'name': 'marky',\n",
       "  'billno': 112,\n",
       "  'Qty': 48,\n",
       "  'price': 24,\n",
       "  'wt': '75g'},\n",
       " '19011013': {'name': 'bourn',\n",
       "  'billno': 113,\n",
       "  'Qty': 37,\n",
       "  'price': 26,\n",
       "  'wt': '75g'},\n",
       " '19011014': {'name': 'bones',\n",
       "  'billno': 114,\n",
       "  'Qty': 26,\n",
       "  'price': 25,\n",
       "  'wt': '75g'},\n",
       " '19011015': {'name': 'jammi',\n",
       "  'billno': 115,\n",
       "  'Qty': 55,\n",
       "  'price': 28,\n",
       "  'wt': '75g'},\n",
       " '19011016': {'name': 'jammy',\n",
       "  'billno': 116,\n",
       "  'Qty': 75,\n",
       "  'price': 25,\n",
       "  'wt': '75g'},\n",
       " '19011017': {'name': 'cream',\n",
       "  'billno': 117,\n",
       "  'Qty': 32,\n",
       "  'price': 25,\n",
       "  'wt': '75g'},\n",
       " '19011018': {'name': 'happy',\n",
       "  'billno': 118,\n",
       "  'Qty': 68,\n",
       "  'price': 88,\n",
       "  'wt': '75g'},\n",
       " '19011019': {'name': 'twent',\n",
       "  'billno': 119,\n",
       "  'Qty': 26,\n",
       "  'price': 23,\n",
       "  'wt': '75g'},\n",
       " '19011020': {'name': 'horse',\n",
       "  'billno': 120,\n",
       "  'Qty': 15,\n",
       "  'price': 29,\n",
       "  'wt': '75g'},\n",
       " '19011021': {'name': 'apple',\n",
       "  'billno': 121,\n",
       "  'Qty': 16,\n",
       "  'price': 23,\n",
       "  'wt': '75g'},\n",
       " '19011022': {'name': 'mango',\n",
       "  'billno': 122,\n",
       "  'Qty': 16,\n",
       "  'price': 38,\n",
       "  'wt': '75g'},\n",
       " '19011023': {'name': 'banaa',\n",
       "  'billno': 123,\n",
       "  'Qty': 63,\n",
       "  'price': 28,\n",
       "  'wt': '75g'},\n",
       " '19011024': {'name': 'cooki',\n",
       "  'billno': 124,\n",
       "  'Qty': 22,\n",
       "  'price': 26,\n",
       "  'wt': '75g'},\n",
       " '19011025': {'name': 'shake',\n",
       "  'billno': 125,\n",
       "  'Qty': 57,\n",
       "  'price': 26,\n",
       "  'wt': '75g'},\n",
       " '19011026': {'name': 'beeri',\n",
       "  'billno': 126,\n",
       "  'Qty': 24,\n",
       "  'price': 26,\n",
       "  'wt': '75g'},\n",
       " '19011027': {'name': 'flavo',\n",
       "  'billno': 127,\n",
       "  'Qty': 15,\n",
       "  'price': 24,\n",
       "  'wt': '75g'},\n",
       " '19011028': {'name': 'panma',\n",
       "  'billno': 128,\n",
       "  'Qty': 28,\n",
       "  'price': 24,\n",
       "  'wt': '75g'},\n",
       " '19011029': {'name': 'torpi',\n",
       "  'billno': 129,\n",
       "  'Qty': 42,\n",
       "  'price': 29,\n",
       "  'wt': '75g'},\n",
       " '19011030': {'name': 'gasal',\n",
       "  'billno': 130,\n",
       "  'Qty': 82,\n",
       "  'price': 25,\n",
       "  'wt': '75g'}}"
      ]
     },
     "execution_count": 59,
     "metadata": {},
     "output_type": "execute_result"
    }
   ],
   "source": [
    "record"
   ]
  },
  {
   "cell_type": "code",
   "execution_count": null,
   "id": "e8566a93",
   "metadata": {},
   "outputs": [],
   "source": []
  }
 ],
 "metadata": {
  "kernelspec": {
   "display_name": "Python 3",
   "language": "python",
   "name": "python3"
  },
  "language_info": {
   "codemirror_mode": {
    "name": "ipython",
    "version": 3
   },
   "file_extension": ".py",
   "mimetype": "text/x-python",
   "name": "python",
   "nbconvert_exporter": "python",
   "pygments_lexer": "ipython3",
   "version": "3.8.8"
  }
 },
 "nbformat": 4,
 "nbformat_minor": 5
}
